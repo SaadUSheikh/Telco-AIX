{
 "cells": [
  {
   "cell_type": "markdown",
   "metadata": {},
   "source": [
    "# Startlink Performance Monitoring with AI\n",
    "## Author: Fatih E. NAR"
   ]
  },
  {
   "cell_type": "code",
   "execution_count": null,
   "metadata": {},
   "outputs": [],
   "source": [
    "#%pip install -r requirements.txt"
   ]
  },
  {
   "cell_type": "code",
   "execution_count": 2,
   "metadata": {},
   "outputs": [],
   "source": [
    "import pandas as pd\n",
    "import numpy as np\n",
    "import torch\n",
    "import torch.nn as nn\n",
    "from sklearn.preprocessing import StandardScaler, LabelEncoder\n",
    "from sklearn.model_selection import train_test_split\n",
    "import joblib\n",
    "from accelerate import Accelerator\n",
    "from torch.utils.data import DataLoader, TensorDataset"
   ]
  },
  {
   "cell_type": "code",
   "execution_count": 3,
   "metadata": {},
   "outputs": [],
   "source": [
    "class StarlinkTransformer(nn.Module):\n",
    "    def __init__(self, input_dim, num_heads=4, dim_feedforward=128, dropout=0.1):\n",
    "        super().__init__()\n",
    "        self.transformer = nn.TransformerEncoder(\n",
    "            nn.TransformerEncoderLayer(\n",
    "                d_model=input_dim,\n",
    "                nhead=num_heads,\n",
    "                dim_feedforward=dim_feedforward,\n",
    "                dropout=dropout\n",
    "            ),\n",
    "            num_layers=2\n",
    "        )\n",
    "        self.fc = nn.Linear(input_dim, 1)\n",
    "\n",
    "    def forward(self, x):\n",
    "        x = self.transformer(x)\n",
    "        x = torch.mean(x, dim=1)\n",
    "        return self.fc(x)"
   ]
  },
  {
   "cell_type": "code",
   "execution_count": 4,
   "metadata": {},
   "outputs": [],
   "source": [
    "# Data preparation\n",
    "df = pd.read_csv('data/starlink_data.csv')\n",
    "\n",
    "label_encoders = {}\n",
    "for cat_feat in ['season', 'weather']:\n",
    "    label_encoders[cat_feat] = LabelEncoder()\n",
    "    df[f'{cat_feat}_encoded'] = label_encoders[cat_feat].fit_transform(df[cat_feat])\n",
    "\n",
    "features = ['latitude', 'longitude', 'elevation_m', 'visible_satellites', \n",
    "           'serving_satellites', 'signal_loss_db', 'season_encoded', 'weather_encoded']\n",
    "\n",
    "X = df[features].values\n",
    "y = df['qoe_score'].values\n",
    "\n",
    "scaler = StandardScaler()\n",
    "X_scaled = scaler.fit_transform(X)\n",
    "\n",
    "# Convert to tensors and create dataloaders\n",
    "X_tensor = torch.FloatTensor(X_scaled)\n",
    "y_tensor = torch.FloatTensor(y).reshape(-1, 1)\n",
    "\n",
    "X_train, X_test, y_train, y_test = train_test_split(X_tensor, y_tensor, test_size=0.2, random_state=42)\n",
    "\n",
    "train_dataset = TensorDataset(X_train, y_train)\n",
    "test_dataset = TensorDataset(X_test, y_test)\n",
    "\n",
    "train_loader = DataLoader(train_dataset, batch_size=128, shuffle=True)\n",
    "test_loader = DataLoader(test_dataset, batch_size=128)"
   ]
  },
  {
   "cell_type": "code",
   "execution_count": 5,
   "metadata": {},
   "outputs": [
    {
     "name": "stderr",
     "output_type": "stream",
     "text": [
      "/opt/app-root/lib64/python3.11/site-packages/torch/nn/modules/transformer.py:307: UserWarning: enable_nested_tensor is True, but self.use_nested_tensor is False because encoder_layer.self_attn.batch_first was not True(use batch_first for better inference performance)\n",
      "  warnings.warn(f\"enable_nested_tensor is True, but self.use_nested_tensor is False because {why_not_sparsity_fast_path}\")\n"
     ]
    },
    {
     "name": "stdout",
     "output_type": "stream",
     "text": [
      "Epoch 10, Test Loss: 0.2680\n",
      "Epoch 20, Test Loss: 0.1621\n",
      "Epoch 30, Test Loss: 0.1255\n",
      "Epoch 40, Test Loss: 0.1554\n",
      "Epoch 50, Test Loss: 0.0680\n",
      "Epoch 60, Test Loss: 0.0669\n",
      "Epoch 70, Test Loss: 0.0669\n",
      "Epoch 80, Test Loss: 0.0574\n",
      "Epoch 90, Test Loss: 0.1041\n",
      "Epoch 100, Test Loss: 0.0582\n",
      "Epoch 110, Test Loss: 0.0644\n",
      "Epoch 120, Test Loss: 0.1123\n",
      "Epoch 130, Test Loss: 0.0619\n",
      "Epoch 140, Test Loss: 0.0601\n",
      "Epoch 150, Test Loss: 0.1175\n",
      "Epoch 160, Test Loss: 0.0641\n",
      "Epoch 170, Test Loss: 0.0534\n",
      "Epoch 180, Test Loss: 0.0643\n",
      "Epoch 190, Test Loss: 0.0623\n",
      "Epoch 200, Test Loss: 0.0603\n"
     ]
    }
   ],
   "source": [
    "# Initialize accelerator\n",
    "accelerator = Accelerator()\n",
    "\n",
    "# Model setup\n",
    "model = StarlinkTransformer(input_dim=X.shape[1])\n",
    "criterion = nn.MSELoss()\n",
    "optimizer = torch.optim.Adam(model.parameters(), lr=0.001)\n",
    "\n",
    "# Prepare for accelerated training\n",
    "model, optimizer, train_loader, test_loader = accelerator.prepare(\n",
    "    model, optimizer, train_loader, test_loader\n",
    ")\n",
    "\n",
    "# Training loop\n",
    "num_epochs = 200\n",
    "\n",
    "for epoch in range(num_epochs):\n",
    "    model.train()\n",
    "    for batch_X, batch_y in train_loader:\n",
    "        optimizer.zero_grad()\n",
    "        outputs = model(batch_X.unsqueeze(1))\n",
    "        loss = criterion(outputs, batch_y)\n",
    "        accelerator.backward(loss)\n",
    "        optimizer.step()\n",
    "    \n",
    "    if (epoch + 1) % 10 == 0:\n",
    "        model.eval()\n",
    "        test_loss = 0\n",
    "        with torch.no_grad():\n",
    "            for test_X, test_y in test_loader:\n",
    "                y_pred = model(test_X.unsqueeze(1))\n",
    "                test_loss += criterion(y_pred, test_y).item()\n",
    "        print(f'Epoch {epoch+1}, Test Loss: {test_loss/len(test_loader):.4f}')"
   ]
  },
  {
   "cell_type": "code",
   "execution_count": 6,
   "metadata": {},
   "outputs": [
    {
     "data": {
      "text/plain": [
       "['models/label_encoders.joblib']"
      ]
     },
     "execution_count": 6,
     "metadata": {},
     "output_type": "execute_result"
    }
   ],
   "source": [
    "# Save model and preprocessing\n",
    "accelerator.wait_for_everyone()\n",
    "unwrapped_model = accelerator.unwrap_model(model)\n",
    "torch.save(unwrapped_model.state_dict(), 'models/starlink_transformer.pth')\n",
    "joblib.dump(scaler, 'models/scaler.joblib')\n",
    "joblib.dump(label_encoders, 'models/label_encoders.joblib')"
   ]
  },
  {
   "cell_type": "code",
   "execution_count": 7,
   "metadata": {},
   "outputs": [
    {
     "name": "stdout",
     "output_type": "stream",
     "text": [
      "\n",
      "Final R² Score: 0.999\n"
     ]
    }
   ],
   "source": [
    "# Final evaluation\n",
    "model.eval()\n",
    "total_loss = 0\n",
    "y_true = []\n",
    "y_pred_list = []\n",
    "\n",
    "with torch.no_grad():\n",
    "    for test_X, test_y in test_loader:\n",
    "        y_pred = model(test_X.unsqueeze(1))\n",
    "        loss = criterion(y_pred, test_y)\n",
    "        total_loss += loss.item()\n",
    "        y_true.extend(test_y.cpu().numpy())\n",
    "        y_pred_list.extend(y_pred.cpu().numpy())\n",
    "\n",
    "final_loss = total_loss / len(test_loader)\n",
    "y_true = np.array(y_true)\n",
    "y_pred = np.array(y_pred_list)\n",
    "r2 = 1 - np.sum((y_true - y_pred) ** 2) / np.sum((y_true - np.mean(y_true)) ** 2)\n",
    "print(f'\\nFinal R² Score: {r2:.3f}')"
   ]
  }
 ],
 "metadata": {
  "kernelspec": {
   "display_name": "Python 3.11",
   "language": "python",
   "name": "python3"
  },
  "language_info": {
   "codemirror_mode": {
    "name": "ipython",
    "version": 3
   },
   "file_extension": ".py",
   "mimetype": "text/x-python",
   "name": "python",
   "nbconvert_exporter": "python",
   "pygments_lexer": "ipython3",
   "version": "3.11.7"
  }
 },
 "nbformat": 4,
 "nbformat_minor": 4
}
